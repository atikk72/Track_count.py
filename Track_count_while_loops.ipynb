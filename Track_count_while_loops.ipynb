{
  "nbformat": 4,
  "nbformat_minor": 0,
  "metadata": {
    "colab": {
      "provenance": [],
      "authorship_tag": "ABX9TyNyhGDODmS7/HFgdG9+ygaL",
      "include_colab_link": true
    },
    "kernelspec": {
      "name": "python3",
      "display_name": "Python 3"
    },
    "language_info": {
      "name": "python"
    }
  },
  "cells": [
    {
      "cell_type": "markdown",
      "metadata": {
        "id": "view-in-github",
        "colab_type": "text"
      },
      "source": [
        "<a href=\"https://colab.research.google.com/github/atikk72/Track_count.py/blob/main/Track_count_while_loops.ipynb\" target=\"_parent\"><img src=\"https://colab.research.google.com/assets/colab-badge.svg\" alt=\"Open In Colab\"/></a>"
      ]
    },
    {
      "cell_type": "code",
      "execution_count": 1,
      "metadata": {
        "colab": {
          "base_uri": "https://localhost:8080/"
        },
        "id": "P9WYlBrGRAEp",
        "outputId": "8087c43b-be6f-4ae5-da98-0184a2afc3f6"
      },
      "outputs": [
        {
          "output_type": "stream",
          "name": "stdout",
          "text": [
            "Enter your mile count :12\n",
            "Enter your mile count :10\n",
            "Enter your mile count :9\n",
            "Enter your mile count :8\n",
            "Enter your mile count :4\n",
            "Enter your mile count :Done\n",
            " your avg time per mile is 8.6\n"
          ]
        }
      ],
      "source": [
        "mile_count=0\n",
        "total_time=0\n",
        "value=''\n",
        "while value!=\"Done\":\n",
        "  value=input(\"Enter your mile count :\")\n",
        "  if value!=\"Done\":\n",
        "    if float(value)>0:\n",
        "      time_for_each_lap=float(value)\n",
        "      total_time=total_time+time_for_each_lap\n",
        "      mile_count=mile_count+1\n",
        "    else:\n",
        "      print(\"enter a valid value\")\n",
        "\n",
        "if mile_count > 0:\n",
        "  avg=total_time/mile_count\n",
        "  print(f\" your avg time per mile is {avg}\")\n",
        "else:\n",
        "  print(\"no miles were entered\")\n"
      ]
    },
    {
      "cell_type": "code",
      "source": [],
      "metadata": {
        "id": "GNGBEmr8RNl5"
      },
      "execution_count": null,
      "outputs": []
    }
  ]
}